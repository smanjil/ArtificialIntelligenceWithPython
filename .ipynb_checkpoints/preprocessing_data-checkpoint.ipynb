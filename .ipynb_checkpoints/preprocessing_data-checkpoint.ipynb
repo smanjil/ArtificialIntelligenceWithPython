{
 "cells": [
  {
   "cell_type": "code",
   "execution_count": 1,
   "metadata": {},
   "outputs": [],
   "source": [
    "import numpy as np\n",
    "from sklearn import preprocessing"
   ]
  },
  {
   "cell_type": "code",
   "execution_count": 7,
   "metadata": {},
   "outputs": [],
   "source": [
    "input_data = np.array([\n",
    "    [5.1, -2.9, 3.3],\n",
    "    [-1.2, 7.8, -6.1],\n",
    "    [3.9, 0.4, 2.1],\n",
    "    [7.3, -9.9, -4.5]\n",
    "])\n",
    "\n",
    "# below we will learn some preprocessing techniques"
   ]
  },
  {
   "cell_type": "code",
   "execution_count": 8,
   "metadata": {},
   "outputs": [
    {
     "name": "stdout",
     "output_type": "stream",
     "text": [
      "Binarized data:  [[1. 0. 1.]\n",
      " [0. 1. 0.]\n",
      " [1. 0. 0.]\n",
      " [1. 0. 0.]]\n"
     ]
    }
   ],
   "source": [
    "# binarization: convert numerical values into boolean values, use 2.1 as threshold value.\n",
    "data_binarized = preprocessing.Binarizer(threshold=2.1).transform(input_data)\n",
    "print ('Binarized data: ', data_binarized)"
   ]
  },
  {
   "cell_type": "code",
   "execution_count": 13,
   "metadata": {},
   "outputs": [
    {
     "name": "stdout",
     "output_type": "stream",
     "text": [
      "Before: \n",
      "Mean:  [ 3.775 -1.15  -1.3  ]\n",
      "Std. Deviation:  [3.12039661 6.36651396 4.0620192 ]\n",
      "\n",
      "After: \n",
      "Mean:  [1.11022302e-16 0.00000000e+00 2.77555756e-17]\n",
      "Std. Decviation:  [1. 1. 1.]\n"
     ]
    }
   ],
   "source": [
    "# mean removal: removing mean from feature vector, so that each feature is centered on zero. To remove bias from features in our feature vector.\n",
    "print ('Before: ')\n",
    "print ('Mean: ', input_data.mean(axis=0))\n",
    "print ('Std. Deviation: ', input_data.std(axis=0))\n",
    "\n",
    "# remove mean\n",
    "data_scaled = preprocessing.scale(input_data)\n",
    "print ('\\nAfter: ')\n",
    "print ('Mean: ', data_scaled.mean(axis=0))\n",
    "print ('Std. Decviation: ', data_scaled.std(axis=0))"
   ]
  },
  {
   "cell_type": "code",
   "execution_count": 14,
   "metadata": {},
   "outputs": [
    {
     "name": "stdout",
     "output_type": "stream",
     "text": [
      "Min max scaled data:  [[0.74117647 0.39548023 1.        ]\n",
      " [0.         1.         0.        ]\n",
      " [0.6        0.5819209  0.87234043]\n",
      " [1.         0.         0.17021277]]\n"
     ]
    }
   ],
   "source": [
    "# scaling: in feature vector, values of each feature can vary between many random values. so, scaling is necessary.\n",
    "# min max scaling\n",
    "data_scaler_minmax = preprocessing.MinMaxScaler(feature_range=(0, 1))\n",
    "data_scaled_minmax = data_scaler_minmax.fit_transform(input_data)\n",
    "print ('Min max scaled data: ', data_scaled_minmax)"
   ]
  },
  {
   "cell_type": "code",
   "execution_count": 16,
   "metadata": {},
   "outputs": [
    {
     "name": "stdout",
     "output_type": "stream",
     "text": [
      "L1 normalized data:  [[ 0.45132743 -0.25663717  0.2920354 ]\n",
      " [-0.0794702   0.51655629 -0.40397351]\n",
      " [ 0.609375    0.0625      0.328125  ]\n",
      " [ 0.33640553 -0.4562212  -0.20737327]]\n",
      "\n",
      " normalized data:  [[ 0.75765788 -0.43082507  0.49024922]\n",
      " [-0.12030718  0.78199664 -0.61156148]\n",
      " [ 0.87690281  0.08993875  0.47217844]\n",
      " [ 0.55734935 -0.75585734 -0.34357152]]\n"
     ]
    }
   ],
   "source": [
    "# normalization: modify the values of feature vector to measure them on common scale.\n",
    "# L1 normalization: least absolute deviation, sum of absolute values is 1 in each row.\n",
    "# L2 normalization: least squares, sum of squares is 1.\n",
    "data_normalized_l1 = preprocessing.normalize(input_data, norm='l1')\n",
    "data_normalized_l2 = preprocessing.normalize(input_data, norm='l2')\n",
    "print ('L1 normalized data: ', data_normalized_l1)\n",
    "print ('\\n normalized data: ', data_normalized_l2)"
   ]
  },
  {
   "cell_type": "code",
   "execution_count": null,
   "metadata": {},
   "outputs": [],
   "source": []
  }
 ],
 "metadata": {
  "kernelspec": {
   "display_name": "Python 3",
   "language": "python",
   "name": "python3"
  },
  "language_info": {
   "codemirror_mode": {
    "name": "ipython",
    "version": 3
   },
   "file_extension": ".py",
   "mimetype": "text/x-python",
   "name": "python",
   "nbconvert_exporter": "python",
   "pygments_lexer": "ipython3",
   "version": "3.6.5"
  }
 },
 "nbformat": 4,
 "nbformat_minor": 2
}
